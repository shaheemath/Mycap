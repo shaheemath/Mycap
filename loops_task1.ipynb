{
 "cells": [
  {
   "cell_type": "code",
   "execution_count": 4,
   "metadata": {},
   "outputs": [
    {
     "name": "stdout",
     "output_type": "stream",
     "text": [
      "2 22 1 89 34 56 6 7 8 9 12 "
     ]
    }
   ],
   "source": [
    "#Python program to print positive Numbers in a range\n",
    "  \n",
    "L1 = [2,22,-34,1,89,-22,-4,-5,-67,34,56,6,7,8,9,12]\n",
    "for i in L1:\n",
    "    if i > 0:\n",
    "       print(i, end = \" \")"
   ]
  },
  {
   "cell_type": "code",
   "execution_count": null,
   "metadata": {},
   "outputs": [],
   "source": []
  }
 ],
 "metadata": {
  "kernelspec": {
   "display_name": "Python 3",
   "language": "python",
   "name": "python3"
  },
  "language_info": {
   "codemirror_mode": {
    "name": "ipython",
    "version": 3
   },
   "file_extension": ".py",
   "mimetype": "text/x-python",
   "name": "python",
   "nbconvert_exporter": "python",
   "pygments_lexer": "ipython3",
   "version": "3.8.5"
  }
 },
 "nbformat": 4,
 "nbformat_minor": 4
}
